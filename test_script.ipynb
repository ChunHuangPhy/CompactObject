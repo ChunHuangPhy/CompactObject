{
 "cells": [
  {
   "cell_type": "code",
   "execution_count": null,
   "metadata": {},
   "outputs": [],
   "source": [
    "import main\n",
    "\n",
    "main.OutputMR(Test_EOS.csv)"
   ]
  }
 ],
 "metadata": {
  "kernelspec": {
   "display_name": "base",
   "language": "python",
   "name": "python3"
  },
  "language_info": {
   "name": "python",
   "version": "3.9.13"
  },
  "orig_nbformat": 4,
  "vscode": {
   "interpreter": {
    "hash": "e4481115b400f107b26d360e6549f546bb0e8bc1af70e4e66085bfa77a017a39"
   }
  }
 },
 "nbformat": 4,
 "nbformat_minor": 2
}
