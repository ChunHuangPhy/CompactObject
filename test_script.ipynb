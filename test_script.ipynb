{
 "cells": [
  {
   "cell_type": "code",
   "execution_count": 2,
   "metadata": {},
   "outputs": [
    {
     "name": "stdout",
     "output_type": "stream",
     "text": [
      "[1. 1. 1. 1. 1. 1. 1. 1. 1. 1. 1.]\n",
      "1.0\n",
      "1.0\n",
      "1.0\n",
      "1.0\n",
      "1.0\n",
      "1.0\n",
      "1.0\n",
      "1.0\n",
      "1.0\n",
      "1.0\n",
      "1.0\n",
      "This is a valid equation of state\n"
     ]
    },
    {
     "ename": "IndexError",
     "evalue": "index 20 is out of bounds for axis 0 with size 11",
     "output_type": "error",
     "traceback": [
      "\u001b[0;31m---------------------------------------------------------------------------\u001b[0m",
      "\u001b[0;31mIndexError\u001b[0m                                Traceback (most recent call last)",
      "Cell \u001b[0;32mIn[2], line 6\u001b[0m\n\u001b[1;32m      2\u001b[0m \u001b[39mimport\u001b[39;00m \u001b[39mnumpy\u001b[39;00m \u001b[39mas\u001b[39;00m \u001b[39mnp\u001b[39;00m\n\u001b[1;32m      3\u001b[0m \u001b[39m# Main Returns radius, mass, and tidal\u001b[39;00m\n\u001b[1;32m      4\u001b[0m \u001b[39m#   Argument is either (filename = ) OR (density = , pressure = )\u001b[39;00m\n\u001b[1;32m      5\u001b[0m \u001b[39m#   Example: main.OutputMR(filename = 'file.csv') OR main.OutputMR(density = array, pressure = array)\u001b[39;00m\n\u001b[0;32m----> 6\u001b[0m main\u001b[39m.\u001b[39;49mOutputMR(density\u001b[39m=\u001b[39;49mnp\u001b[39m.\u001b[39;49marray([\u001b[39m1\u001b[39;49m,\u001b[39m2\u001b[39;49m,\u001b[39m3\u001b[39;49m,\u001b[39m5\u001b[39;49m,\u001b[39m6\u001b[39;49m,\u001b[39m7\u001b[39;49m,\u001b[39m8\u001b[39;49m,\u001b[39m9\u001b[39;49m,\u001b[39m10\u001b[39;49m,\u001b[39m11\u001b[39;49m,\u001b[39m12\u001b[39;49m]), pressure\u001b[39m=\u001b[39;49mnp\u001b[39m.\u001b[39;49marray([\u001b[39m1\u001b[39;49m,\u001b[39m2\u001b[39;49m,\u001b[39m3\u001b[39;49m,\u001b[39m5\u001b[39;49m,\u001b[39m6\u001b[39;49m,\u001b[39m7\u001b[39;49m,\u001b[39m8\u001b[39;49m,\u001b[39m9\u001b[39;49m,\u001b[39m10\u001b[39;49m,\u001b[39m11\u001b[39;49m,\u001b[39m12\u001b[39;49m]))\n",
      "File \u001b[0;32m~/EoS_inference/main.py:41\u001b[0m, in \u001b[0;36mOutputMR\u001b[0;34m(input_file, density, pressure)\u001b[0m\n\u001b[1;32m     39\u001b[0m \u001b[39mfor\u001b[39;00m i \u001b[39min\u001b[39;00m \u001b[39mrange\u001b[39m(\u001b[39mlen\u001b[39m(density)):\n\u001b[1;32m     40\u001b[0m     \u001b[39mtry\u001b[39;00m:\n\u001b[0;32m---> 41\u001b[0m         RFSU2R\u001b[39m.\u001b[39mappend(TOV_solver\u001b[39m.\u001b[39;49msolveTOV(density[i], energy_density, pressure)[\u001b[39m1\u001b[39m])\n\u001b[1;32m     42\u001b[0m         MFSU2R\u001b[39m.\u001b[39mappend(TOV_solver\u001b[39m.\u001b[39msolveTOV(density[i], energy_density, pressure)[\u001b[39m0\u001b[39m])\n\u001b[1;32m     43\u001b[0m         tidal\u001b[39m.\u001b[39mappend(TOV_solver\u001b[39m.\u001b[39msolveTOV(density[i], energy_density, pressure)[\u001b[39m2\u001b[39m])\n",
      "File \u001b[0;32m~/EoS_inference/TOV_solver.py:65\u001b[0m, in \u001b[0;36msolveTOV\u001b[0;34m(center_rho, energy_density, pressure)\u001b[0m\n\u001b[1;32m     63\u001b[0m eos \u001b[39m=\u001b[39m UnivariateSpline(energy_density, pressure, k\u001b[39m=\u001b[39m\u001b[39m3\u001b[39m, s\u001b[39m=\u001b[39m\u001b[39m0\u001b[39m)\n\u001b[1;32m     64\u001b[0m inveos \u001b[39m=\u001b[39m UnivariateSpline(pressure, energy_density, k\u001b[39m=\u001b[39m\u001b[39m3\u001b[39m, s\u001b[39m=\u001b[39m\u001b[39m0\u001b[39m)\n\u001b[0;32m---> 65\u001b[0m Pmin \u001b[39m=\u001b[39m pressure[\u001b[39m20\u001b[39;49m]\n\u001b[1;32m     66\u001b[0m r \u001b[39m=\u001b[39m \u001b[39m4.441e-16\u001b[39m\n\u001b[1;32m     67\u001b[0m dr \u001b[39m=\u001b[39m \u001b[39m10.\u001b[39m\n",
      "\u001b[0;31mIndexError\u001b[0m: index 20 is out of bounds for axis 0 with size 11"
     ]
    }
   ],
   "source": [
    "import main\n",
    "import numpy as np\n",
    "# Main Returns radius, mass, and tidal\n",
    "#   Function argument is either (filename = ) OR (density = , pressure = )\n",
    "#   Example: main.OutputMR(filename = 'file.csv') OR main.OutputMR(density = array1, pressure = array2)\n",
    "main.OutputMR(density=np.array([1,2,3,5,6,7,8,9,10,11,12]), pressure=np.array([1,2,3,5,6,7,8,9,10,11,12]))\n"
   ]
  },
  {
   "cell_type": "code",
   "execution_count": null,
   "metadata": {},
   "outputs": [],
   "source": []
  }
 ],
 "metadata": {
  "kernelspec": {
   "display_name": "Python 3.10.11 ('codeastro': conda)",
   "language": "python",
   "name": "python3"
  },
  "language_info": {
   "codemirror_mode": {
    "name": "ipython",
    "version": 3
   },
   "file_extension": ".py",
   "mimetype": "text/x-python",
   "name": "python",
   "nbconvert_exporter": "python",
   "pygments_lexer": "ipython3",
   "version": "3.10.11"
  },
  "orig_nbformat": 4,
  "vscode": {
   "interpreter": {
    "hash": "96cde995692749c807442bbeaa9689846410ead4afda5558a1e30343cc8dce50"
   }
  }
 },
 "nbformat": 4,
 "nbformat_minor": 2
}
