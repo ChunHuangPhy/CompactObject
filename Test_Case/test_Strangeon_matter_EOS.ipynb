{
 "cells": [
  {
   "cell_type": "markdown",
   "id": "7f75aea3",
   "metadata": {},
   "source": [
    "# Strangeon matter EOS generators illustration notebook"
   ]
  },
  {
   "cell_type": "markdown",
   "id": "c3c78e2d",
   "metadata": {},
   "source": [
    "First import all the package that will be used."
   ]
  },
  {
   "cell_type": "code",
   "execution_count": 72,
   "id": "035d68ba",
   "metadata": {},
   "outputs": [],
   "source": [
    "import numpy as np\n",
    "import math\n",
    "import TOVsolver.main as main\n",
    "import matplotlib.pyplot as plt\n",
    "from scipy.integrate import ode"
   ]
  },
  {
   "cell_type": "markdown",
   "id": "e45baae1",
   "metadata": {},
   "source": [
    "The strangeon matter EOS describes the strongly interacting matter in the solid state, and the compact star can be a self-bound quark star composed of strangeon matter. Therefore, in the following we present the bare quark star EOS without a crust."
   ]
  },
  {
   "cell_type": "markdown",
   "id": "bd163ea9",
   "metadata": {},
   "source": [
    "The constans that we will used in the following:"
   ]
  },
  {
   "cell_type": "code",
   "execution_count": 73,
   "id": "744d2ac5",
   "metadata": {},
   "outputs": [],
   "source": [
    "c = 3e10  # Speed of light in cm/s\n",
    "G = 6.67428e-8  # Gravitational constant in cm^3/g/s^2 or dyne cm^2/g^2\n",
    "Msun = 1.989e33  # Solar mass in grams\n",
    "dyncm2_to_MeVfm3 = 1./(1.6022e33)  # Conversion factor from dyn/cm^2 to MeV/fm^3\n",
    "gcm3_to_MeVfm3 = 1./(1.7827e12)  # Conversion factor from g/cm^3 to MeV/fm^3\n",
    "oneoverfm_MeV = 197.33  # Conversion factor for fm to MeV"
   ]
  },
  {
   "cell_type": "code",
   "execution_count": 74,
   "id": "2f855fc4",
   "metadata": {},
   "outputs": [],
   "source": [
    "def Strangeon_compute_EOS(n, theta): \n",
    "    \"\"\"\n",
    "    Compute the energy density and pressure based on the given parameters.\n",
    "\n",
    "    Args:\n",
    "        n (array): An array of n values. Input values of baryon number densities.\n",
    "        theta (array): An array representing the parameters [epsilon, Nq, ns].\n",
    "        epsilon: the depth of the potential well; MeV;\n",
    "        Nq: the number of quarks in a strangeon; \n",
    "        ns: the number density of baryons at the surface of the star; fm^-3\n",
    "        \n",
    "    Returns:\n",
    "        tuple: Arrays of energy densities in units of gcm3 and pressures in units of dyncm2.\n",
    "    \"\"\"\n",
    "    \n",
    "    Nq, epsilon, ns = theta\n",
    "    \n",
    "    A12 = 6.2\n",
    "    A6 = 8.4 \n",
    "    mq = 300 \n",
    "    \"\"\"\n",
    "    mq: the mass of the quark in this EOS.\n",
    "    A12 and A6 are fixed throughout the calculation.\n",
    "    \"\"\"\n",
    "   \n",
    "    sigma = np.sqrt(A6 / (2 * A12)) * (Nq / (3 * ns)) \n",
    "   \n",
    "    energy_density = 2 * epsilon * (A12 * sigma**4 * n**5 - A6 * sigma**2 * n**3) + n * Nq * mq\n",
    "    pressure = 4 * epsilon * (2 * A12 * sigma**4 * n**5 - A6 * sigma**2 * n**3)\n",
    "    \n",
    "    return energy_density*G/c**2/gcm3_to_MeVfm3, pressure*G/c**4/dyncm2_to_MeVfm3\n"
   ]
  },
  {
   "cell_type": "markdown",
   "id": "b9d39ec3",
   "metadata": {},
   "source": [
    "Note that the strangeon matter parameters we input are in the natural unit system. The quentity returned by the Strangeon_compute_EOS function is in the Geometric Unit System. Thus, here, the parameter epsilon and ns are in the units of MeV and fm^-3, then using the conversion factor from  g/cm^3 to MeV/fm^3 and dyn/cm^2 to MeV/fm^3, we can obtain the  quentity of energy density and pressure in the units of cgs. Finally, we convert to the geometrical unit system by adding G/c**2 and G/c**4.\n"
   ]
  },
  {
   "cell_type": "markdown",
   "id": "972389f3",
   "metadata": {},
   "source": [
    "Defining the EOS parameters"
   ]
  },
  {
   "cell_type": "markdown",
   "id": "bbb8807a",
   "metadata": {},
   "source": [
    "Define the strangeon matter EOS that we will use to calculate the energy densities and pressures of the system.\n",
    "The following is an example of how to define the theta and Nq.\n",
    "For example, theta=[50, 0.24] means the example values for epsilon and ns:\n",
    "epsilon in units of MeV, ns in units of fm^-3.\n",
    "Nq is an integer, e.g. Nq=9, 12, 15, 18, 21, 24, 27\n",
    "\n",
    "For the definition of parameter n, the minimum value is 3*ns/Nq, the maximum value is about 0.16*8*3/Nq.\n",
    "Then we can generate,for example, 100 points for the input of the srangeon matter EOS.\n",
    "\n",
    "Once we define the EOS parameters already, we can use the Strangeon_compute_EOS function to calcute the energy_density and pressure."
   ]
  },
  {
   "cell_type": "code",
   "execution_count": 75,
   "id": "1173846b",
   "metadata": {},
   "outputs": [
    {
     "name": "stdout",
     "output_type": "stream",
     "text": [
      "n values: [0.04       0.04175084 0.04350168 0.04525253 0.04700337 0.04875421\n",
      " 0.05050505 0.05225589 0.05400673 0.05575758 0.05750842 0.05925926\n",
      " 0.0610101  0.06276094 0.06451178 0.06626263 0.06801347 0.06976431\n",
      " 0.07151515 0.07326599 0.07501684 0.07676768 0.07851852 0.08026936\n",
      " 0.0820202  0.08377104 0.08552189 0.08727273 0.08902357 0.09077441\n",
      " 0.09252525 0.09427609 0.09602694 0.09777778 0.09952862 0.10127946\n",
      " 0.1030303  0.10478114 0.10653199 0.10828283 0.11003367 0.11178451\n",
      " 0.11353535 0.1152862  0.11703704 0.11878788 0.12053872 0.12228956\n",
      " 0.1240404  0.12579125 0.12754209 0.12929293 0.13104377 0.13279461\n",
      " 0.13454545 0.1362963  0.13804714 0.13979798 0.14154882 0.14329966\n",
      " 0.14505051 0.14680135 0.14855219 0.15030303 0.15205387 0.15380471\n",
      " 0.15555556 0.1573064  0.15905724 0.16080808 0.16255892 0.16430976\n",
      " 0.16606061 0.16781145 0.16956229 0.17131313 0.17306397 0.17481481\n",
      " 0.17656566 0.1783165  0.18006734 0.18181818 0.18356902 0.18531987\n",
      " 0.18707071 0.18882155 0.19057239 0.19232323 0.19407407 0.19582492\n",
      " 0.19757576 0.1993266  0.20107744 0.20282828 0.20457912 0.20632997\n",
      " 0.20808081 0.20983165 0.21158249 0.21333333]\n",
      "Energy densities: [2.70512220e-14 2.82478498e-14 2.94739883e-14 3.07367243e-14\n",
      " 3.20438652e-14 3.34039681e-14 3.48263691e-14 3.63212117e-14\n",
      " 3.78994765e-14 3.95730098e-14 4.13545526e-14 4.32577699e-14\n",
      " 4.52972792e-14 4.74886801e-14 4.98485830e-14 5.23946380e-14\n",
      " 5.51455641e-14 5.81211782e-14 6.13424241e-14 6.48314013e-14\n",
      " 6.86113944e-14 7.27069016e-14 7.71436644e-14 8.19486957e-14\n",
      " 8.71503098e-14 9.27781507e-14 9.88632212e-14 1.05437912e-13\n",
      " 1.12536032e-13 1.20192833e-13 1.28445046e-13 1.37330902e-13\n",
      " 1.46890167e-13 1.57164169e-13 1.68195827e-13 1.80029679e-13\n",
      " 1.92711912e-13 2.06290394e-13 2.20814696e-13 2.36336127e-13\n",
      " 2.52907761e-13 2.70584466e-13 2.89422932e-13 3.09481704e-13\n",
      " 3.30821204e-13 3.53503767e-13 3.77593667e-13 4.03157144e-13\n",
      " 4.30262437e-13 4.58979811e-13 4.89381586e-13 5.21542164e-13\n",
      " 5.55538064e-13 5.91447945e-13 6.29352636e-13 6.69335169e-13\n",
      " 7.11480803e-13 7.55877056e-13 8.02613732e-13 8.51782954e-13\n",
      " 9.03479188e-13 9.57799273e-13 1.01484246e-12 1.07471041e-12\n",
      " 1.13750727e-12 1.20333968e-12 1.27231676e-12 1.34455023e-12\n",
      " 1.42015435e-12 1.49924600e-12 1.58194469e-12 1.66837261e-12\n",
      " 1.75865462e-12 1.85291833e-12 1.95129406e-12 2.05391496e-12\n",
      " 2.16091695e-12 2.27243881e-12 2.38862218e-12 2.50961159e-12\n",
      " 2.63555452e-12 2.76660137e-12 2.90290554e-12 3.04462346e-12\n",
      " 3.19191456e-12 3.34494139e-12 3.50386955e-12 3.66886781e-12\n",
      " 3.84010807e-12 4.01776543e-12 4.20201820e-12 4.39304794e-12\n",
      " 4.59103948e-12 4.79618094e-12 5.00866380e-12 5.22868288e-12\n",
      " 5.45643638e-12 5.69212595e-12 5.93595667e-12 6.18813708e-12]\n",
      "Pressures: [0.00000000e+00 6.11361214e-16 1.41271112e-15 2.43538097e-15\n",
      " 3.71358100e-15 5.28451629e-15 7.18850265e-15 9.46908246e-15\n",
      " 1.21731406e-14 1.53510202e-14 1.90566388e-14 2.33476037e-14\n",
      " 2.82853284e-14 3.39351482e-14 4.03664361e-14 4.76527185e-14\n",
      " 5.58717913e-14 6.51058360e-14 7.54415349e-14 8.69701875e-14\n",
      " 9.97878263e-14 1.13995333e-13 1.29698552e-13 1.47008411e-13\n",
      " 1.66041033e-13 1.86917853e-13 2.09765734e-13 2.34717084e-13\n",
      " 2.61909969e-13 2.91488233e-13 3.23601611e-13 3.58405844e-13\n",
      " 3.96062799e-13 4.36740580e-13 4.80613647e-13 5.27862931e-13\n",
      " 5.78675950e-13 6.33246925e-13 6.91776895e-13 7.54473834e-13\n",
      " 8.21552766e-13 8.93235881e-13 9.69752652e-13 1.05133995e-12\n",
      " 1.13824216e-12 1.23071129e-12 1.32900711e-12 1.43339723e-12\n",
      " 1.54415726e-12 1.66157088e-12 1.78593000e-12 1.91753484e-12\n",
      " 2.05669407e-12 2.20372491e-12 2.35895326e-12 2.52271381e-12\n",
      " 2.69535013e-12 2.87721484e-12 3.06866969e-12 3.27008568e-12\n",
      " 3.48184315e-12 3.70433197e-12 3.93795159e-12 4.18311116e-12\n",
      " 4.44022968e-12 4.70973610e-12 4.99206941e-12 5.28767880e-12\n",
      " 5.59702375e-12 5.92057416e-12 6.25881042e-12 6.61222361e-12\n",
      " 6.98131554e-12 7.36659890e-12 7.76859736e-12 8.18784573e-12\n",
      " 8.62489000e-12 9.08028752e-12 9.55460709e-12 1.00484291e-11\n",
      " 1.05623455e-11 1.10969603e-11 1.16528892e-11 1.22307600e-11\n",
      " 1.28312127e-11 1.34548994e-11 1.41024848e-11 1.47746460e-11\n",
      " 1.54720727e-11 1.61954673e-11 1.69455450e-11 1.77230343e-11\n",
      " 1.85286762e-11 1.93632254e-11 2.02274497e-11 2.11221303e-11\n",
      " 2.20480620e-11 2.30060531e-11 2.39969260e-11 2.50215168e-11]\n"
     ]
    }
   ],
   "source": [
    "Nq=18\n",
    "epsilon=50\n",
    "ns=0.24\n",
    "theta = np.array([Nq, epsilon, ns])\n",
    "n_min = 3 * theta[2] / theta[0]  \n",
    "n_max = 0.16 * 8 * 3 / theta[0]   \n",
    "n_values = np.linspace(n_min, n_max, 100) \n",
    "\n",
    "energy_densities, pressures = Strangeon_compute_EOS(n_values, theta)\n",
    "print(\"n values:\", n_values)\n",
    "print(\"Energy densities:\", energy_densities)\n",
    "print(\"Pressures:\", pressures) "
   ]
  },
  {
   "cell_type": "markdown",
   "id": "eeff3825",
   "metadata": {},
   "source": [
    "Here below we use the strangeon matter EOS to compute the mass radius curve.\n",
    "\n",
    "The following code calculates the mass and radius of the strange stars for the given EOS of the strange matter EOS.\n",
    "\n",
    "Input a given central pressure and central energy density, you will obtain the radius where the pressure is zero and the mass at that radius."
   ]
  },
  {
   "cell_type": "code",
   "execution_count": 76,
   "id": "7e0602f9",
   "metadata": {},
   "outputs": [],
   "source": [
    "def TOV_def(r, y):\n",
    "    pressure, mass = y\n",
    "    energy_density = energy_densities[np.argmin(np.abs(pressures - pressure))]\n",
    "    dpdr = -(energy_density + pressure) * (mass + 4 * np.pi * r**3 * pressure) / (r * (r - 2 * mass))\n",
    "    dmdr = 4 * np.pi * r**2 * energy_density\n",
    "    return [dpdr, dmdr] \n",
    "\n",
    "\n",
    "def solve_TOV(central_pressure, central_energy_density):\n",
    "    \"\"\"\n",
    "    Solve the TOV equations for a given central pressure and energy density.\n",
    "    Args:\n",
    "        central_pressure (float): The central pressure of the star.\n",
    "        central_energy_density (float): The central energy density of the star.\n",
    "    Returns:\n",
    "        tuple: Radius and mass of the star.\n",
    "    \"\"\"   \n",
    "    \n",
    "    r_i = 1e-5 \n",
    "    y_i = [central_pressure,  4/3 * np.pi * r_i**3 * central_energy_density] \n",
    "    \n",
    "    solver = ode(TOV_def).set_integrator('dopri5')\n",
    "    solver.set_initial_value(y_i, r_i) \n",
    "    \n",
    "    dt = 1e4\n",
    "    while solver.successful() and solver.y[0] > 0:\n",
    "        solver.integrate(solver.t + dt)\n",
    "        \n",
    "    if solver.successful():\n",
    "        R = solver.t / 1e5  \n",
    "        M = solver.y[1] * c**2 / G / Msun \n",
    "\n",
    "    return R, M"
   ]
  },
  {
   "cell_type": "markdown",
   "id": "f546f908",
   "metadata": {},
   "source": [
    "Solve the TOV equations using each central pressure and energy density"
   ]
  },
  {
   "cell_type": "code",
   "execution_count": 87,
   "id": "6e813f19",
   "metadata": {},
   "outputs": [
    {
     "name": "stdout",
     "output_type": "stream",
     "text": [
      "[[1.00000000e-10 7.68207958e-34]\n",
      " [5.90000000e+00 1.60121280e-01]\n",
      " [8.40000000e+00 4.71215006e-01]\n",
      " [1.01000000e+01 8.36939236e-01]\n",
      " [1.15000000e+01 1.26092789e+00]\n",
      " [1.25000000e+01 1.65687654e+00]\n",
      " [1.33000000e+01 2.04186596e+00]\n",
      " [1.40000000e+01 2.43062385e+00]\n",
      " [1.44000000e+01 2.71126853e+00]\n",
      " [1.48000000e+01 3.00590503e+00]\n",
      " [1.50000000e+01 3.20645334e+00]\n",
      " [1.52000000e+01 3.40719998e+00]\n",
      " [1.53000000e+01 3.55338800e+00]\n",
      " [1.54000000e+01 3.69631034e+00]\n",
      " [1.54000000e+01 3.77916629e+00]\n",
      " [1.54000000e+01 3.85690313e+00]\n",
      " [1.54000000e+01 3.92745803e+00]\n",
      " [1.54000000e+01 3.99386808e+00]\n",
      " [1.53000000e+01 3.99990214e+00]\n",
      " [1.53000000e+01 4.05595027e+00]\n",
      " [1.52000000e+01 4.05237910e+00]\n",
      " [1.51000000e+01 4.04670012e+00]\n",
      " [1.50000000e+01 4.03449036e+00]\n",
      " [1.50000000e+01 4.07205745e+00]\n",
      " [1.49000000e+01 4.05532944e+00]\n",
      " [1.48000000e+01 4.03485856e+00]\n",
      " [1.47000000e+01 4.01185858e+00]\n",
      " [1.46000000e+01 3.98798041e+00]\n",
      " [1.46000000e+01 4.01000581e+00]\n",
      " [1.45000000e+01 3.98162747e+00]\n",
      " [1.44000000e+01 3.95018463e+00]\n",
      " [1.44000000e+01 3.96654795e+00]\n",
      " [1.43000000e+01 3.93330871e+00]\n",
      " [1.42000000e+01 3.89935049e+00]\n",
      " [1.42000000e+01 3.91059960e+00]\n",
      " [1.41000000e+01 3.87390410e+00]\n",
      " [1.40000000e+01 3.83668888e+00]\n",
      " [1.40000000e+01 3.84448985e+00]\n",
      " [1.39000000e+01 3.80571945e+00]\n",
      " [1.39000000e+01 3.81150577e+00]\n",
      " [1.38000000e+01 3.77173925e+00]\n",
      " [1.38000000e+01 3.77582292e+00]\n",
      " [1.38000000e+01 3.78056123e+00]\n",
      " [1.37000000e+01 3.73989192e+00]\n",
      " [1.37000000e+01 3.74177303e+00]\n",
      " [1.36000000e+01 3.70038110e+00]\n",
      " [1.36000000e+01 3.70258285e+00]\n",
      " [1.36000000e+01 3.70400694e+00]\n",
      " [1.36000000e+01 3.70469257e+00]\n",
      " [1.35000000e+01 3.66328631e+00]\n",
      " [1.35000000e+01 3.66301120e+00]\n",
      " [1.35000000e+01 3.66345854e+00]\n",
      " [1.35000000e+01 3.66327674e+00]\n",
      " [1.34000000e+01 3.62178813e+00]\n",
      " [1.34000000e+01 3.62106690e+00]\n",
      " [1.34000000e+01 3.62044613e+00]\n",
      " [1.34000000e+01 3.61924868e+00]\n",
      " [1.34000000e+01 3.61914393e+00]\n",
      " [1.33000000e+01 3.57704065e+00]\n",
      " [1.33000000e+01 3.57735198e+00]\n",
      " [1.33000000e+01 3.57463611e+00]\n",
      " [1.33000000e+01 3.57501107e+00]\n",
      " [1.33000000e+01 3.57311128e+00]\n",
      " [1.33000000e+01 3.57225741e+00]\n",
      " [1.33000000e+01 3.57165236e+00]\n",
      " [1.33000000e+01 3.57030416e+00]\n",
      " [1.33000000e+01 3.56933407e+00]\n",
      " [1.33000000e+01 3.56716984e+00]\n",
      " [1.32000000e+01 3.52642413e+00]\n",
      " [1.32000000e+01 3.52628941e+00]\n",
      " [1.32000000e+01 3.52429438e+00]\n",
      " [1.32000000e+01 3.52223273e+00]\n",
      " [1.32000000e+01 3.52104036e+00]\n",
      " [1.32000000e+01 3.52057550e+00]\n",
      " [1.32000000e+01 3.52002583e+00]\n",
      " [1.32000000e+01 3.51938910e+00]\n",
      " [1.32000000e+01 3.51753557e+00]\n",
      " [1.32000000e+01 3.51626296e+00]\n",
      " [1.32000000e+01 3.51526824e+00]\n",
      " [1.32000000e+01 3.51414145e+00]\n",
      " [1.32000000e+01 3.51321296e+00]\n",
      " [1.32000000e+01 3.51258542e+00]\n",
      " [1.32000000e+01 3.51122965e+00]\n",
      " [1.32000000e+01 3.51091270e+00]\n",
      " [1.32000000e+01 3.50993415e+00]\n",
      " [1.32000000e+01 3.50926532e+00]\n",
      " [1.32000000e+01 3.50858137e+00]\n",
      " [1.32000000e+01 3.50775766e+00]\n",
      " [1.32000000e+01 3.50630737e+00]\n",
      " [1.32000000e+01 3.50509143e+00]\n",
      " [1.32000000e+01 3.50481424e+00]\n",
      " [1.32000000e+01 3.50375153e+00]\n",
      " [1.32000000e+01 3.50381817e+00]\n",
      " [1.32000000e+01 3.50276216e+00]\n",
      " [1.32000000e+01 3.50181656e+00]\n",
      " [1.32000000e+01 3.50140641e+00]\n",
      " [1.32000000e+01 3.50072786e+00]\n",
      " [1.32000000e+01 3.49999297e+00]\n",
      " [1.32000000e+01 3.49921279e+00]\n",
      " [1.32000000e+01 3.49887990e+00]]\n"
     ]
    }
   ],
   "source": [
    "def output_MR(energy_densities, pressures):\n",
    "    masses=[]\n",
    "    radii=[]\n",
    "    for ep, cp in zip(energy_densities, pressures):\n",
    "        R, M = solve_TOV(central_pressure=cp, central_energy_density=ep)\n",
    "        radii.append(R)\n",
    "        masses.append(M)\n",
    "    MR = np.vstack((radii, masses)).T\n",
    "    return MR\n",
    "\n",
    "MR=output_MR(energy_densities, pressures)\n",
    "print(MR)"
   ]
  },
  {
   "cell_type": "code",
   "execution_count": 88,
   "id": "4f54b1de",
   "metadata": {},
   "outputs": [
    {
     "data": {
      "image/png": "[encoded data removed]",
      "text/plain": [
       "<Figure size 900x600 with 1 Axes>"
      ]
     },
     "metadata": {},
     "output_type": "display_data"
    }
   ],
   "source": [
    "fig, ax = plt.subplots(1, 1, figsize=(9, 6))\n",
    "ax.plot(MR[:,0] , MR[:,1], lw=2)\n",
    "ax.set_ylabel(r\"M [$M_{\\odot}$]\", fontsize=16)\n",
    "ax.set_xlabel(\"R [km]\", fontsize=16)\n",
    "# ax.set_xlim(8.0, 20.0)\n",
    "# ax.set_ylim(0, 3)\n",
    "ax.tick_params(top=1, right=1, which=\"both\", direction=\"in\", labelsize=14)\n",
    "ax.tick_params(top=1, right=1, which=\"both\", direction=\"in\", labelsize=14)\n",
    "fig.tight_layout()\n",
    "plt.show()"
   ]
  },
  {
   "cell_type": "markdown",
   "id": "9b760278",
   "metadata": {},
   "source": [
    "You also can use our defined function, 'OutputMR' to compute out what the mass radius curve corresponding to this equation of state."
   ]
  },
  {
   "cell_type": "code",
   "execution_count": 63,
   "id": "3feb11be",
   "metadata": {},
   "outputs": [
    {
     "name": "stdout",
     "output_type": "stream",
     "text": [
      "[[4.44100000e-21 4.44100000e-21 4.44100000e-21 4.44100000e-21\n",
      "  4.44100000e-21 4.44100000e-21 4.44100000e-21 4.44100000e-21\n",
      "  4.44100000e-21 4.44100000e-21 4.44100000e-21 4.44100000e-21\n",
      "  4.44100000e-21 4.44100000e-21 4.44100000e-21 4.44100000e-21\n",
      "  4.44100000e-21 4.44100000e-21 4.44100000e-21 4.44100000e-21\n",
      "  4.44100000e-21 4.44100000e-21 4.44100000e-21 4.44100000e-21\n",
      "  4.44100000e-21 4.44100000e-21 3.10563596e+00 4.32350845e+00\n",
      "  5.33392945e+00 5.88865871e+00 5.86512576e+00 6.44826615e+00\n",
      "  6.41969631e+00 7.02879732e+00 6.99586824e+00 6.96376281e+00\n",
      "  7.59318495e+00 7.55825322e+00 7.52452468e+00 7.49199392e+00\n",
      "  7.46065196e+00 7.43048945e+00 7.40149529e+00 7.37365865e+00\n",
      "  7.34696784e+00 7.32141175e+00 7.29697894e+00 7.93771270e+00\n",
      "  7.91422534e+00 7.89204887e+00]\n",
      " [3.68040952e-65 3.91225143e-65 4.15869787e-65 4.42066884e-65\n",
      "  4.69914228e-65 4.99515774e-65 5.30982025e-65 5.64430445e-65\n",
      "  5.99985899e-65 6.37781116e-65 6.77957186e-65 7.20664087e-65\n",
      "  7.66061246e-65 8.14318132e-65 8.65614887e-65 9.20143006e-65\n",
      "  9.78106042e-65 1.03972037e-64 1.10521601e-64 1.17483744e-64\n",
      "  1.24884457e-64 1.32751367e-64 1.41113842e-64 1.50003098e-64\n",
      "  1.59452319e-64 1.69496780e-64 5.94794930e-02 1.63753174e-01\n",
      "  3.10574401e-01 4.25348426e-01 4.38238330e-01 5.84553624e-01\n",
      "  5.98420884e-01 7.76971211e-01 7.90693791e-01 8.04005753e-01\n",
      "  1.01273066e+00 1.02469835e+00 1.03621418e+00 1.04729570e+00\n",
      "  1.05795915e+00 1.06822041e+00 1.07809447e+00 1.08759611e+00\n",
      "  1.09673948e+00 1.10553859e+00 1.11400702e+00 1.33589761e+00\n",
      "  1.34262025e+00 1.34908899e+00]]\n"
     ]
    }
   ],
   "source": [
    "MR = main.OutputMR(input_file='', density= energy_densities, pressure=pressures).T\n",
    "print(MR)"
   ]
  }
 ],
 "metadata": {
  "kernelspec": {
   "display_name": "Python 3 (ipykernel)",
   "language": "python",
   "name": "python3"
  },
  "language_info": {
   "codemirror_mode": {
    "name": "ipython",
    "version": 3
   },
   "file_extension": ".py",
   "mimetype": "text/x-python",
   "name": "python",
   "nbconvert_exporter": "python",
   "pygments_lexer": "ipython3",
   "version": "3.9.13"
  }
 },
 "nbformat": 4,
 "nbformat_minor": 5
}
