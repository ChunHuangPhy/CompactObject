{
 "cells": [
  {
   "cell_type": "markdown",
   "id": "edb2cf2a",
   "metadata": {},
   "source": [
    "# Bayesian inference demonstrator for MIT bag EOS"
   ]
  },
  {
   "cell_type": "markdown",
   "id": "7bc633d3",
   "metadata": {},
   "source": [
    "The MIT bag model, which has commonly been applied to strange quark stars, relates pressure to energy density with the simple equation of state $p=\\frac{\\epsilon}{3}-\\frac{4B}{3}$. There is only one parameter, the \"bag constant\" $B$. This represents the vacuum energy density, which creates a \"bag\" in which quarks are confined. See [Chodos et al. (1974)](https://doi.org/10.1103/PhysRevD.9.3471).\n",
    "\n",
    "In this notebook, we use our Bayesian inference code to constrain the value of $B$ using observations."
   ]
  },
  {
   "cell_type": "markdown",
   "id": "acdcb64a",
   "metadata": {},
   "source": [
    "## (a) Import packages"
   ]
  },
  {
   "cell_type": "code",
   "execution_count": 1,
   "id": "f6f20856",
   "metadata": {},
   "outputs": [],
   "source": [
    "import InferenceWorkflow.BayesianSampler as sampler\n",
    "import InferenceWorkflow.Likelihood as likelihood\n",
    "import InferenceWorkflow.prior as prior\n",
    "import math\n",
    "import numpy as np\n",
    "import EOSgenerators.MITbag_EOS as MITbag\n",
    "from TOVsolver.unit import MeV, fm, g_cm_3, dyn_cm_2, km, Msun\n",
    "import TOVsolver.main as main"
   ]
  },
  {
   "cell_type": "markdown",
   "id": "edfa0f72",
   "metadata": {},
   "source": [
    "## (b) Set up priors"
   ]
  },
  {
   "cell_type": "markdown",
   "id": "38136542",
   "metadata": {},
   "source": [
    "Next, we need to set up the priors. We first use a parameters array to specify the variable name. This process should be consistent with what you need to call them.\n",
    "\n",
    "Define a prior transform function to define prior. Cube is a set of random numbers from 0 to 1. This prior setting is the standard set-up of UltraNest package, since we are using UltraNest to do nest-sampling.\n",
    "\n",
    "We provided two options call from prior:\"normal_Prior\" and \"flat_prior\".\n",
    "\n",
    "We note that since we are doing Equation of state inference from mass-radius data of neutron star measurement. The central density of the star should be also sampled. Otherwise, this will be a partially-defined prior that did not span all of the parameter space, and proved to be different from full-scope inference.\n",
    "\n",
    "This request will randomly generate a density from a EoS range, however, this process is not that trivial, since we need to determine the upper limit of the central density of the compact star --- different equations of state will predict different upper bounds, so here we need to use the prior-setting EoS parameters computing the mass-radius curve for this equation of state, then find out the last stable point of this equation of state (first mass points that give the direvative to be negative). We can find that index with the len() function, then reset this max_d to be upper limit of this density range.\n"
   ]
  },
  {
   "cell_type": "code",
   "execution_count": 2,
   "id": "2b87dd3b",
   "metadata": {},
   "outputs": [],
   "source": [
    "parameters = ['B','d1']\n",
    "\n",
    "def prior_transform(cube):\n",
    "    params = cube.copy()\n",
    "    params[0] = prior.flat_prior(20,100,cube[0])\n",
    "\n",
    "    B = params[0]\n",
    "    \n",
    "    epsilon,p = MITbag.MITbag_compute_EOS(B)\n",
    "\n",
    "    RFSU2R = [] \n",
    "    MFSU2R = []\n",
    "    density = np.logspace(14.3, 15.6, 50) \n",
    "    if all(x<y for x,y in zip(epsilon[:], epsilon[1:])) and all(x<y for x, y in zip(p[:], p[1:])):\n",
    "        MR = main.OutputMR(\"\",epsilon,p).T  \n",
    "        \n",
    "    else:\n",
    "        MR = []\n",
    "    if len(MR) == False: \n",
    "        params[1] = 0\n",
    "        #this line for showing how to add one more observation\n",
    "    else:\n",
    "   \n",
    "        for i in range(len(MR[1])):\n",
    "            RFSU2R.append(MR[1][i])\n",
    "            MFSU2R.append(MR[0][i])   \n",
    "            if i > 20 and MR[0][i] - MR[0][i-1]< 0:    \n",
    "                break\n",
    "    if len(MFSU2R)==False:\n",
    "        params[1] = 0\n",
    "        #params[3] = 0\n",
    "        #this line for showing how to add one more observation\n",
    "    else:\n",
    "        max_index = len(MFSU2R)\n",
    "        max_d = np.log10(density[max_index-1])\n",
    "        params[1] = 14.3 + (max_d - 14.3) * cube[1]\n",
    "        #params[3] = 14.3 + (max_d - 14.3) * cube[3]\n",
    "        #this line for showing how to add one more observation\n",
    "    return params"
   ]
  },
  {
   "cell_type": "markdown",
   "id": "6f8e4822",
   "metadata": {},
   "source": [
    "In the upper part, we define a flat (uniform) prior for the parameters in the strangeon matter equation of state, due to the lack of constraints from terrestrial experiments.\n",
    "\n",
    "Note that the above code is an example of Bayesian analysis for a given mass and radius observation measurement.\n",
    "For example, if you use the NICER data for the measurements of J0030, then you should define another parameter, except the strangeon EOS parameters, e.g. \"d1\" for the centre density of this measurement, in the meantime add \"params[2]\" to this code.\n",
    "\n",
    "If you further consider the adjoint analysis with J0030+J0740, then you should define the other two parameters, e.g. \"d1\" and \"d2\" for the centre density of these two measurements, in the meantime add \"params[3]\" to the above code."
   ]
  },
  {
   "cell_type": "markdown",
   "id": "53ab6d43",
   "metadata": {},
   "source": [
    "# Set up likehood"
   ]
  },
  {
   "cell_type": "markdown",
   "id": "3bfd12ff",
   "metadata": {},
   "source": [
    "We need to set up a likelihood, Using standard definition way of UltraNest, that is below.\n",
    "\n",
    "Here the likelihood is generated from a simulated mass radius measurement, which is  𝑀=1.4𝑀⊙\n",
    "  and  𝑅=13\n",
    "  km, With a 5% Mass radius measurement uncertainty, \n",
    "  \n",
    " so here\n",
    " \n",
    "      likelihood.MRlikihood_Gaussian\n",
    "      \n",
    "function will be use for our likelihood, please check [likelihood.MRlikihood_Gaussian](https://github.com/ChunHuangPhy/CompactOject/blob/main/InferenceWorkflow/Likelihood.py) to see the original code, and more choice of likelihood. eg:\n",
    "\n",
    "1.If we have some real mass-radius measurements, say PSR J0030 or PSR J0740, come from NICER, a KDE kernel could be trained to feed into\n",
    "\n",
    "likelihood.MRlikihood_kernel(eps_total,pres_total,x,d1)\n",
    "\n",
    "set the KDE kernel as a input for this function\n",
    "\n",
    "2.If we gain measurement from radio-timing, say only measure the neutron star mass, then\n",
    "\n",
    "likelihood.Masslikihood_Gaussian(eps_total,pres_total,x,d1)\n",
    "\n",
    "Which will give the likelihood from single mass measurement, x is the parameters of that measurement, you should specify where this measurement mass is located and what is the sigma width of this mass measurement.\n",
    "\n",
    "3.If we have nuclear measurements, and want to constrain this RMF model by nuclear properties like K(The Incompressibility of nuclear matter),J ( the symmetry energy at saturation density) and L( the slope of symmetry energy at saturation density). You can choose:\n",
    "\n",
    "likelihood.Kliklihood(theta,K_low,K_up)\n",
    "likelihood.Jliklihood(theta,K_low,K_up)\n",
    "likelihood.Lliklihood(theta,K_low,K_up)\n",
    "\n",
    "We are defaulting a hard-cut flat constrain, so if you don't like this default hard cut, also could define the likelihood by youself with similiar style.\n",
    "\n",
    "4.If we have a Tidal measurements from Gravitational wave detector, we can use it to do constraint:\n",
    "\n",
    "likelihood.TidalLikihood_kernel(eps_total,pres_total,x,d1)\n",
    "\n",
    "Where x is sampled distribution from real measurements, the standard is\n",
    "\n",
    "kernel, chrip = x,\n",
    "\n",
    "where the kernel is a whole set sampling from GW event, that is [chrip mass, M2/M1, tidal of M1, tidal of M2] four quantities. Chrip is the single smapling that comes only the chrip mass sampling."
   ]
  },
  {
   "cell_type": "code",
   "execution_count": 3,
   "id": "0d3a8359",
   "metadata": {},
   "outputs": [],
   "source": [
    "import scipy.stats as stats\n",
    "\n",
    "\n",
    "def likelihood_transform(theta):\n",
    "    # This is a demonstration code for only introduce one constraint from one mass-radius observation.\n",
    "    # Could be very easy to implement more constraint from nuclear quantity, since that do not need to\n",
    "    # sample more central density of real neutron star. If user want to expand to two mass radius measurement \n",
    "    # the code could be:\n",
    "      \n",
    "    B, d1 = theta\n",
    "    \n",
    "    ####################################################################################################################\n",
    "    ############ This is the block to compute out all the EoS you need based on your parameters#########################\n",
    "\n",
    "    epsilon,p = MITbag.MITbag_compute_EOS(B)\n",
    "\n",
    "    ####################################################################################################################\n",
    "    \n",
    "    probMRgaussian = likelihood.MRlikihood_Gaussian(epsilon,p,(1.4,13,0.07,0.65),d1)\n",
    "    \n",
    "    prob = probMRgaussian\n",
    "    \n",
    "    return prob"
   ]
  },
  {
   "cell_type": "markdown",
   "id": "4a3802c4",
   "metadata": {},
   "source": [
    "# Set up sampler"
   ]
  },
  {
   "cell_type": "markdown",
   "id": "76bce7fb",
   "metadata": {},
   "source": [
    "Here next, we define sampler, there is two different sampler we provided for. \n",
    "\n",
    "Considering where you need resume file:\n",
    "\n",
    "sampler.UltranestSampler   and  sampler.UltranestSamplerResume\n",
    "\n",
    "Here since it is our first run, so we only use first one. Some of the sampler parameters is requested, first is step number, our choice for UltraNest sampler is slicesampler, which could easily be sliced up your total computation load, and parallelize, speed up sampling. So step as suggested by documentation of UltraNest, we use 2*len(parameters).\n",
    "\n",
    "live_point we set 2000, it will influence the sampling precision, We suggest for 7 dimension space, maybe 5000 is a better choice, however, since my computer only have limited resources, we set 2000.\n",
    "\n",
    "max_calls set 10000, it is how many iteration after it will stop, we suggest to set this number significantly higher, otherwise maybe will broken before the inference converging to a definite value. That result will be un-phyiscal."
   ]
  },
  {
   "cell_type": "code",
   "execution_count": 4,
   "id": "f05849a0",
   "metadata": {},
   "outputs": [
    {
     "name": "stdout",
     "output_type": "stream",
     "text": [
      "Creating directory for new run output/run2\n",
      "[ultranest] Sampling 400 live points from prior ...\n"
     ]
    },
    {
     "name": "stderr",
     "output_type": "stream",
     "text": [
      "capi_return is NULL\n",
      "Call-back cb_fcn_in___user__routines failed.\n"
     ]
    },
    {
     "ename": "KeyboardInterrupt",
     "evalue": "",
     "output_type": "error",
     "traceback": [
      "\u001b[0;31m---------------------------------------------------------------------------\u001b[0m",
      "\u001b[0;31mKeyboardInterrupt\u001b[0m                         Traceback (most recent call last)",
      "Cell \u001b[0;32mIn[4], line 5\u001b[0m\n\u001b[1;32m      2\u001b[0m live_point \u001b[38;5;241m=\u001b[39m \u001b[38;5;241m400\u001b[39m\n\u001b[1;32m      4\u001b[0m max_calls \u001b[38;5;241m=\u001b[39m \u001b[38;5;241m60000\u001b[39m\n\u001b[0;32m----> 5\u001b[0m samples \u001b[38;5;241m=\u001b[39m sampler\u001b[38;5;241m.\u001b[39mUltranestSampler(parameters,likelihood_transform,prior_transform,step,live_point,max_calls)\n",
      "File \u001b[0;32m~/Desktop/HackWeek/CompactOject/InferenceWorkflow/BayesianSampler.py:32\u001b[0m, in \u001b[0;36mUltranestSampler\u001b[0;34m(parameters, likelihood, prior, step, live_points, max_calls)\u001b[0m\n\u001b[1;32m     24\u001b[0m sampler \u001b[38;5;241m=\u001b[39m ultranest\u001b[38;5;241m.\u001b[39mReactiveNestedSampler(parameters, likelihood, prior,log_dir\u001b[38;5;241m=\u001b[39m\u001b[38;5;124m'\u001b[39m\u001b[38;5;124moutput\u001b[39m\u001b[38;5;124m'\u001b[39m)\n\u001b[1;32m     25\u001b[0m sampler\u001b[38;5;241m.\u001b[39mstepsampler \u001b[38;5;241m=\u001b[39m ultranest\u001b[38;5;241m.\u001b[39mstepsampler\u001b[38;5;241m.\u001b[39mSliceSampler(\n\u001b[1;32m     26\u001b[0m     nsteps\u001b[38;5;241m=\u001b[39mstep,\n\u001b[1;32m     27\u001b[0m     generate_direction\u001b[38;5;241m=\u001b[39multranest\u001b[38;5;241m.\u001b[39mstepsampler\u001b[38;5;241m.\u001b[39mgenerate_mixture_random_direction,\n\u001b[1;32m     28\u001b[0m     \u001b[38;5;66;03m# adaptive_nsteps=False,\u001b[39;00m\n\u001b[1;32m     29\u001b[0m     \u001b[38;5;66;03m# max_nsteps=400\u001b[39;00m\n\u001b[1;32m     30\u001b[0m )\n\u001b[0;32m---> 32\u001b[0m result \u001b[38;5;241m=\u001b[39m sampler\u001b[38;5;241m.\u001b[39mrun(min_num_live_points\u001b[38;5;241m=\u001b[39mlive_points,max_ncalls\u001b[38;5;241m=\u001b[39m max_calls)\n\u001b[1;32m     33\u001b[0m flat_samples \u001b[38;5;241m=\u001b[39m sampler\u001b[38;5;241m.\u001b[39mresults[\u001b[38;5;124m'\u001b[39m\u001b[38;5;124msamples\u001b[39m\u001b[38;5;124m'\u001b[39m]\n\u001b[1;32m     34\u001b[0m \u001b[38;5;28;01mreturn\u001b[39;00m flat_samples\n",
      "File \u001b[0;32m~/miniconda3/envs/Thesis-Project/lib/python3.11/site-packages/ultranest/integrator.py:2459\u001b[0m, in \u001b[0;36mReactiveNestedSampler.run\u001b[0;34m(self, update_interval_volume_fraction, update_interval_ncall, log_interval, show_status, viz_callback, dlogz, dKL, frac_remain, Lepsilon, min_ess, max_iters, max_ncalls, max_num_improvement_loops, min_num_live_points, cluster_num_live_points, insertion_test_zscore_threshold, insertion_test_window, region_class, widen_before_initial_plateau_num_warn, widen_before_initial_plateau_num_max)\u001b[0m\n\u001b[1;32m   2279\u001b[0m \u001b[38;5;28;01mdef\u001b[39;00m \u001b[38;5;21mrun\u001b[39m(\n\u001b[1;32m   2280\u001b[0m         \u001b[38;5;28mself\u001b[39m,\n\u001b[1;32m   2281\u001b[0m         update_interval_volume_fraction\u001b[38;5;241m=\u001b[39m\u001b[38;5;241m0.8\u001b[39m,\n\u001b[0;32m   (...)\u001b[0m\n\u001b[1;32m   2300\u001b[0m         widen_before_initial_plateau_num_max\u001b[38;5;241m=\u001b[39m\u001b[38;5;241m50000\u001b[39m,\n\u001b[1;32m   2301\u001b[0m ):\n\u001b[1;32m   2302\u001b[0m \u001b[38;5;250m    \u001b[39m\u001b[38;5;124mr\u001b[39m\u001b[38;5;124;03m\"\"\"Run until target convergence criteria are fulfilled.\u001b[39;00m\n\u001b[1;32m   2303\u001b[0m \n\u001b[1;32m   2304\u001b[0m \u001b[38;5;124;03m    Parameters\u001b[39;00m\n\u001b[0;32m   (...)\u001b[0m\n\u001b[1;32m   2457\u001b[0m \u001b[38;5;124;03m            - converged (bool): whether the run is converged according to the MWW test, at the given threshold\u001b[39;00m\n\u001b[1;32m   2458\u001b[0m \u001b[38;5;124;03m    \"\"\"\u001b[39;00m\n\u001b[0;32m-> 2459\u001b[0m     \u001b[38;5;28;01mfor\u001b[39;00m _result \u001b[38;5;129;01min\u001b[39;00m \u001b[38;5;28mself\u001b[39m\u001b[38;5;241m.\u001b[39mrun_iter(\n\u001b[1;32m   2460\u001b[0m         update_interval_volume_fraction\u001b[38;5;241m=\u001b[39mupdate_interval_volume_fraction,\n\u001b[1;32m   2461\u001b[0m         update_interval_ncall\u001b[38;5;241m=\u001b[39mupdate_interval_ncall,\n\u001b[1;32m   2462\u001b[0m         log_interval\u001b[38;5;241m=\u001b[39mlog_interval,\n\u001b[1;32m   2463\u001b[0m         dlogz\u001b[38;5;241m=\u001b[39mdlogz, dKL\u001b[38;5;241m=\u001b[39mdKL,\n\u001b[1;32m   2464\u001b[0m         Lepsilon\u001b[38;5;241m=\u001b[39mLepsilon, frac_remain\u001b[38;5;241m=\u001b[39mfrac_remain,\n\u001b[1;32m   2465\u001b[0m         min_ess\u001b[38;5;241m=\u001b[39mmin_ess, max_iters\u001b[38;5;241m=\u001b[39mmax_iters,\n\u001b[1;32m   2466\u001b[0m         max_ncalls\u001b[38;5;241m=\u001b[39mmax_ncalls, max_num_improvement_loops\u001b[38;5;241m=\u001b[39mmax_num_improvement_loops,\n\u001b[1;32m   2467\u001b[0m         min_num_live_points\u001b[38;5;241m=\u001b[39mmin_num_live_points,\n\u001b[1;32m   2468\u001b[0m         cluster_num_live_points\u001b[38;5;241m=\u001b[39mcluster_num_live_points,\n\u001b[1;32m   2469\u001b[0m         show_status\u001b[38;5;241m=\u001b[39mshow_status,\n\u001b[1;32m   2470\u001b[0m         viz_callback\u001b[38;5;241m=\u001b[39mviz_callback,\n\u001b[1;32m   2471\u001b[0m         insertion_test_window\u001b[38;5;241m=\u001b[39minsertion_test_window,\n\u001b[1;32m   2472\u001b[0m         insertion_test_zscore_threshold\u001b[38;5;241m=\u001b[39minsertion_test_zscore_threshold,\n\u001b[1;32m   2473\u001b[0m         region_class\u001b[38;5;241m=\u001b[39mregion_class,\n\u001b[1;32m   2474\u001b[0m         widen_before_initial_plateau_num_warn\u001b[38;5;241m=\u001b[39mwiden_before_initial_plateau_num_warn,\n\u001b[1;32m   2475\u001b[0m         widen_before_initial_plateau_num_max\u001b[38;5;241m=\u001b[39mwiden_before_initial_plateau_num_max,\n\u001b[1;32m   2476\u001b[0m     ):\n\u001b[1;32m   2477\u001b[0m         \u001b[38;5;28;01mif\u001b[39;00m \u001b[38;5;28mself\u001b[39m\u001b[38;5;241m.\u001b[39mlog:\n\u001b[1;32m   2478\u001b[0m             \u001b[38;5;28mself\u001b[39m\u001b[38;5;241m.\u001b[39mlogger\u001b[38;5;241m.\u001b[39mdebug(\u001b[38;5;124m\"\u001b[39m\u001b[38;5;124mdid a run_iter pass!\u001b[39m\u001b[38;5;124m\"\u001b[39m)\n",
      "File \u001b[0;32m~/miniconda3/envs/Thesis-Project/lib/python3.11/site-packages/ultranest/integrator.py:2560\u001b[0m, in \u001b[0;36mReactiveNestedSampler.run_iter\u001b[0;34m(self, update_interval_volume_fraction, update_interval_ncall, log_interval, dlogz, dKL, frac_remain, Lepsilon, min_ess, max_iters, max_ncalls, max_num_improvement_loops, min_num_live_points, cluster_num_live_points, show_status, viz_callback, insertion_test_window, insertion_test_zscore_threshold, region_class, widen_before_initial_plateau_num_warn, widen_before_initial_plateau_num_max)\u001b[0m\n\u001b[1;32m   2557\u001b[0m \u001b[38;5;28;01mif\u001b[39;00m viz_callback \u001b[38;5;241m==\u001b[39m \u001b[38;5;124m'\u001b[39m\u001b[38;5;124mauto\u001b[39m\u001b[38;5;124m'\u001b[39m:\n\u001b[1;32m   2558\u001b[0m     viz_callback \u001b[38;5;241m=\u001b[39m get_default_viz_callback()\n\u001b[0;32m-> 2560\u001b[0m \u001b[38;5;28mself\u001b[39m\u001b[38;5;241m.\u001b[39m_widen_roots_beyond_initial_plateau(\n\u001b[1;32m   2561\u001b[0m     min_num_live_points,\n\u001b[1;32m   2562\u001b[0m     widen_before_initial_plateau_num_warn, widen_before_initial_plateau_num_max)\n\u001b[1;32m   2564\u001b[0m Llo, Lhi \u001b[38;5;241m=\u001b[39m \u001b[38;5;241m-\u001b[39mnp\u001b[38;5;241m.\u001b[39minf, np\u001b[38;5;241m.\u001b[39minf\n\u001b[1;32m   2565\u001b[0m Lmax \u001b[38;5;241m=\u001b[39m \u001b[38;5;241m-\u001b[39mnp\u001b[38;5;241m.\u001b[39minf\n",
      "File \u001b[0;32m~/miniconda3/envs/Thesis-Project/lib/python3.11/site-packages/ultranest/integrator.py:1435\u001b[0m, in \u001b[0;36mReactiveNestedSampler._widen_roots_beyond_initial_plateau\u001b[0;34m(self, nroots, num_warn, num_stop)\u001b[0m\n\u001b[1;32m   1433\u001b[0m user_has_been_warned \u001b[38;5;241m=\u001b[39m \u001b[38;5;28;01mFalse\u001b[39;00m\n\u001b[1;32m   1434\u001b[0m \u001b[38;5;28;01mwhile\u001b[39;00m \u001b[38;5;28;01mTrue\u001b[39;00m:\n\u001b[0;32m-> 1435\u001b[0m     \u001b[38;5;28mself\u001b[39m\u001b[38;5;241m.\u001b[39m_widen_roots(nroots_needed)\n\u001b[1;32m   1436\u001b[0m     Ls \u001b[38;5;241m=\u001b[39m np\u001b[38;5;241m.\u001b[39marray([node\u001b[38;5;241m.\u001b[39mvalue \u001b[38;5;28;01mfor\u001b[39;00m node \u001b[38;5;129;01min\u001b[39;00m \u001b[38;5;28mself\u001b[39m\u001b[38;5;241m.\u001b[39mroot\u001b[38;5;241m.\u001b[39mchildren])\n\u001b[1;32m   1437\u001b[0m     Lmin \u001b[38;5;241m=\u001b[39m np\u001b[38;5;241m.\u001b[39mmin(Ls)\n",
      "File \u001b[0;32m~/miniconda3/envs/Thesis-Project/lib/python3.11/site-packages/ultranest/integrator.py:1533\u001b[0m, in \u001b[0;36mReactiveNestedSampler._widen_roots\u001b[0;34m(self, nroots)\u001b[0m\n\u001b[1;32m   1531\u001b[0m \u001b[38;5;28;01mif\u001b[39;00m num_live_points_todo \u001b[38;5;241m>\u001b[39m \u001b[38;5;241m0\u001b[39m:\n\u001b[1;32m   1532\u001b[0m     active_u \u001b[38;5;241m=\u001b[39m np\u001b[38;5;241m.\u001b[39mrandom\u001b[38;5;241m.\u001b[39muniform(size\u001b[38;5;241m=\u001b[39m(num_live_points_todo, \u001b[38;5;28mself\u001b[39m\u001b[38;5;241m.\u001b[39mx_dim))\n\u001b[0;32m-> 1533\u001b[0m     active_v \u001b[38;5;241m=\u001b[39m \u001b[38;5;28mself\u001b[39m\u001b[38;5;241m.\u001b[39mtransform(active_u)\n\u001b[1;32m   1534\u001b[0m     active_logl \u001b[38;5;241m=\u001b[39m \u001b[38;5;28mself\u001b[39m\u001b[38;5;241m.\u001b[39mloglike(active_v)\n\u001b[1;32m   1535\u001b[0m \u001b[38;5;28;01melse\u001b[39;00m:\n",
      "File \u001b[0;32m~/miniconda3/envs/Thesis-Project/lib/python3.11/site-packages/ultranest/utils.py:137\u001b[0m, in \u001b[0;36mvectorize.<locals>.vectorized\u001b[0;34m(args)\u001b[0m\n\u001b[1;32m    135\u001b[0m \u001b[38;5;28;01mdef\u001b[39;00m \u001b[38;5;21mvectorized\u001b[39m(args):\n\u001b[1;32m    136\u001b[0m \u001b[38;5;250m    \u001b[39m\u001b[38;5;124;03m\"\"\"Vectorized version of function.\"\"\"\u001b[39;00m\n\u001b[0;32m--> 137\u001b[0m     \u001b[38;5;28;01mreturn\u001b[39;00m np\u001b[38;5;241m.\u001b[39masarray([function(arg) \u001b[38;5;28;01mfor\u001b[39;00m arg \u001b[38;5;129;01min\u001b[39;00m args])\n",
      "File \u001b[0;32m~/miniconda3/envs/Thesis-Project/lib/python3.11/site-packages/ultranest/utils.py:137\u001b[0m, in \u001b[0;36m<listcomp>\u001b[0;34m(.0)\u001b[0m\n\u001b[1;32m    135\u001b[0m \u001b[38;5;28;01mdef\u001b[39;00m \u001b[38;5;21mvectorized\u001b[39m(args):\n\u001b[1;32m    136\u001b[0m \u001b[38;5;250m    \u001b[39m\u001b[38;5;124;03m\"\"\"Vectorized version of function.\"\"\"\u001b[39;00m\n\u001b[0;32m--> 137\u001b[0m     \u001b[38;5;28;01mreturn\u001b[39;00m np\u001b[38;5;241m.\u001b[39masarray([function(arg) \u001b[38;5;28;01mfor\u001b[39;00m arg \u001b[38;5;129;01min\u001b[39;00m args])\n",
      "Cell \u001b[0;32mIn[2], line 15\u001b[0m, in \u001b[0;36mprior_transform\u001b[0;34m(cube)\u001b[0m\n\u001b[1;32m     13\u001b[0m density \u001b[38;5;241m=\u001b[39m np\u001b[38;5;241m.\u001b[39mlogspace(\u001b[38;5;241m14.3\u001b[39m, \u001b[38;5;241m15.6\u001b[39m, \u001b[38;5;241m50\u001b[39m) \n\u001b[1;32m     14\u001b[0m \u001b[38;5;28;01mif\u001b[39;00m \u001b[38;5;28mall\u001b[39m(x\u001b[38;5;241m<\u001b[39my \u001b[38;5;28;01mfor\u001b[39;00m x,y \u001b[38;5;129;01min\u001b[39;00m \u001b[38;5;28mzip\u001b[39m(epsilon[:], epsilon[\u001b[38;5;241m1\u001b[39m:])) \u001b[38;5;129;01mand\u001b[39;00m \u001b[38;5;28mall\u001b[39m(x\u001b[38;5;241m<\u001b[39my \u001b[38;5;28;01mfor\u001b[39;00m x, y \u001b[38;5;129;01min\u001b[39;00m \u001b[38;5;28mzip\u001b[39m(p[:], p[\u001b[38;5;241m1\u001b[39m:])):\n\u001b[0;32m---> 15\u001b[0m     MR \u001b[38;5;241m=\u001b[39m main\u001b[38;5;241m.\u001b[39mOutputMR(\u001b[38;5;124m\"\u001b[39m\u001b[38;5;124m\"\u001b[39m,epsilon,p)\u001b[38;5;241m.\u001b[39mT  \n\u001b[1;32m     17\u001b[0m \u001b[38;5;28;01melse\u001b[39;00m:\n\u001b[1;32m     18\u001b[0m     MR \u001b[38;5;241m=\u001b[39m []\n",
      "File \u001b[0;32m~/Desktop/HackWeek/CompactOject/TOVsolver/main.py:62\u001b[0m, in \u001b[0;36mOutputMR\u001b[0;34m(input_file, density, pressure, central_density_range)\u001b[0m\n\u001b[1;32m     60\u001b[0m \u001b[38;5;28;01mtry\u001b[39;00m:\n\u001b[1;32m     61\u001b[0m     center_rho \u001b[38;5;241m=\u001b[39m central_density_range[i] \u001b[38;5;241m*\u001b[39m G \u001b[38;5;241m/\u001b[39m c\u001b[38;5;241m*\u001b[39m\u001b[38;5;241m*\u001b[39m\u001b[38;5;241m2\u001b[39m\n\u001b[0;32m---> 62\u001b[0m     M, R \u001b[38;5;241m=\u001b[39m TOV_solver\u001b[38;5;241m.\u001b[39msolveTOV(center_rho, Pmin, eos, inveos)\n\u001b[1;32m     63\u001b[0m     Mass\u001b[38;5;241m.\u001b[39mappend(M)\n\u001b[1;32m     64\u001b[0m     Radius\u001b[38;5;241m.\u001b[39mappend(R)\n",
      "File \u001b[0;32m~/Desktop/HackWeek/CompactOject/TOVsolver/solver_code.py:279\u001b[0m, in \u001b[0;36msolveTOV\u001b[0;34m(center_rho, Pmin, eos, inveos)\u001b[0m\n\u001b[1;32m    276\u001b[0m sy\u001b[38;5;241m.\u001b[39mset_initial_value(stateTOV, r)\u001b[38;5;241m.\u001b[39mset_f_params(inveos)\n\u001b[1;32m    278\u001b[0m \u001b[38;5;28;01mwhile\u001b[39;00m sy\u001b[38;5;241m.\u001b[39msuccessful() \u001b[38;5;129;01mand\u001b[39;00m stateTOV[\u001b[38;5;241m0\u001b[39m] \u001b[38;5;241m>\u001b[39m Pmin:\n\u001b[0;32m--> 279\u001b[0m     stateTOV \u001b[38;5;241m=\u001b[39m sy\u001b[38;5;241m.\u001b[39mintegrate(sy\u001b[38;5;241m.\u001b[39mt \u001b[38;5;241m+\u001b[39m dr)\n\u001b[1;32m    280\u001b[0m     dpdr, dmdr \u001b[38;5;241m=\u001b[39m TOV(sy\u001b[38;5;241m.\u001b[39mt \u001b[38;5;241m+\u001b[39m dr, stateTOV, inveos)\n\u001b[1;32m    281\u001b[0m     dr \u001b[38;5;241m=\u001b[39m \u001b[38;5;241m0.46\u001b[39m \u001b[38;5;241m*\u001b[39m (\u001b[38;5;241m1.0\u001b[39m \u001b[38;5;241m/\u001b[39m stateTOV[\u001b[38;5;241m1\u001b[39m] \u001b[38;5;241m*\u001b[39m dmdr \u001b[38;5;241m-\u001b[39m \u001b[38;5;241m1.0\u001b[39m \u001b[38;5;241m/\u001b[39m stateTOV[\u001b[38;5;241m0\u001b[39m] \u001b[38;5;241m*\u001b[39m dpdr) \u001b[38;5;241m*\u001b[39m\u001b[38;5;241m*\u001b[39m (\u001b[38;5;241m-\u001b[39m\u001b[38;5;241m1.0\u001b[39m)\n",
      "File \u001b[0;32m~/miniconda3/envs/Thesis-Project/lib/python3.11/site-packages/scipy/integrate/_ode.py:431\u001b[0m, in \u001b[0;36mode.integrate\u001b[0;34m(self, t, step, relax)\u001b[0m\n\u001b[1;32m    428\u001b[0m     mth \u001b[38;5;241m=\u001b[39m \u001b[38;5;28mself\u001b[39m\u001b[38;5;241m.\u001b[39m_integrator\u001b[38;5;241m.\u001b[39mrun\n\u001b[1;32m    430\u001b[0m \u001b[38;5;28;01mtry\u001b[39;00m:\n\u001b[0;32m--> 431\u001b[0m     \u001b[38;5;28mself\u001b[39m\u001b[38;5;241m.\u001b[39m_y, \u001b[38;5;28mself\u001b[39m\u001b[38;5;241m.\u001b[39mt \u001b[38;5;241m=\u001b[39m mth(\u001b[38;5;28mself\u001b[39m\u001b[38;5;241m.\u001b[39mf, \u001b[38;5;28mself\u001b[39m\u001b[38;5;241m.\u001b[39mjac \u001b[38;5;129;01mor\u001b[39;00m (\u001b[38;5;28;01mlambda\u001b[39;00m: \u001b[38;5;28;01mNone\u001b[39;00m),\n\u001b[1;32m    432\u001b[0m                           \u001b[38;5;28mself\u001b[39m\u001b[38;5;241m.\u001b[39m_y, \u001b[38;5;28mself\u001b[39m\u001b[38;5;241m.\u001b[39mt, t,\n\u001b[1;32m    433\u001b[0m                           \u001b[38;5;28mself\u001b[39m\u001b[38;5;241m.\u001b[39mf_params, \u001b[38;5;28mself\u001b[39m\u001b[38;5;241m.\u001b[39mjac_params)\n\u001b[1;32m    434\u001b[0m \u001b[38;5;28;01mexcept\u001b[39;00m \u001b[38;5;167;01mSystemError\u001b[39;00m \u001b[38;5;28;01mas\u001b[39;00m e:\n\u001b[1;32m    435\u001b[0m     \u001b[38;5;66;03m# f2py issue with tuple returns, see ticket 1187.\u001b[39;00m\n\u001b[1;32m    436\u001b[0m     \u001b[38;5;28;01mraise\u001b[39;00m \u001b[38;5;167;01mValueError\u001b[39;00m(\n\u001b[1;32m    437\u001b[0m         \u001b[38;5;124m'\u001b[39m\u001b[38;5;124mFunction to integrate must not return a tuple.\u001b[39m\u001b[38;5;124m'\u001b[39m\n\u001b[1;32m    438\u001b[0m     ) \u001b[38;5;28;01mfrom\u001b[39;00m \u001b[38;5;21;01me\u001b[39;00m\n",
      "File \u001b[0;32m~/miniconda3/envs/Thesis-Project/lib/python3.11/site-packages/scipy/integrate/_ode.py:1176\u001b[0m, in \u001b[0;36mdopri5.run\u001b[0;34m(self, f, jac, y0, t0, t1, f_params, jac_params)\u001b[0m\n\u001b[1;32m   1175\u001b[0m \u001b[38;5;28;01mdef\u001b[39;00m \u001b[38;5;21mrun\u001b[39m(\u001b[38;5;28mself\u001b[39m, f, jac, y0, t0, t1, f_params, jac_params):\n\u001b[0;32m-> 1176\u001b[0m     x, y, iwork, istate \u001b[38;5;241m=\u001b[39m \u001b[38;5;28mself\u001b[39m\u001b[38;5;241m.\u001b[39mrunner(\u001b[38;5;241m*\u001b[39m((f, t0, y0, t1) \u001b[38;5;241m+\u001b[39m\n\u001b[1;32m   1177\u001b[0m                                       \u001b[38;5;28mtuple\u001b[39m(\u001b[38;5;28mself\u001b[39m\u001b[38;5;241m.\u001b[39mcall_args) \u001b[38;5;241m+\u001b[39m (f_params,)))\n\u001b[1;32m   1178\u001b[0m     \u001b[38;5;28mself\u001b[39m\u001b[38;5;241m.\u001b[39mistate \u001b[38;5;241m=\u001b[39m istate\n\u001b[1;32m   1179\u001b[0m     \u001b[38;5;28;01mif\u001b[39;00m istate \u001b[38;5;241m<\u001b[39m \u001b[38;5;241m0\u001b[39m:\n",
      "File \u001b[0;32m~/Desktop/HackWeek/CompactOject/TOVsolver/solver_code.py:74\u001b[0m, in \u001b[0;36mTOV\u001b[0;34m(r, y, inveos)\u001b[0m\n\u001b[1;32m     62\u001b[0m         adind \u001b[38;5;241m=\u001b[39m (\n\u001b[1;32m     63\u001b[0m             ci\n\u001b[1;32m     64\u001b[0m             \u001b[38;5;241m*\u001b[39m presgrid[idx \u001b[38;5;241m-\u001b[39m \u001b[38;5;241m1\u001b[39m]\n\u001b[0;32m   (...)\u001b[0m\n\u001b[1;32m     69\u001b[0m             \u001b[38;5;241m/\u001b[39m P\n\u001b[1;32m     70\u001b[0m         )\n\u001b[1;32m     71\u001b[0m     \u001b[38;5;28;01mreturn\u001b[39;00m adind\n\u001b[0;32m---> 74\u001b[0m \u001b[38;5;28;01mdef\u001b[39;00m \u001b[38;5;21mTOV\u001b[39m(r, y, inveos):\n\u001b[1;32m     75\u001b[0m     pres, m \u001b[38;5;241m=\u001b[39m y\n\u001b[1;32m     77\u001b[0m     \u001b[38;5;66;03m# eps = 10**inveos(np.log10(pres))\u001b[39;00m\n",
      "\u001b[0;31mKeyboardInterrupt\u001b[0m: "
     ]
    }
   ],
   "source": [
    "step = 2 * len(parameters)\n",
    "live_point = 400\n",
    "\n",
    "max_calls = 60000\n",
    "samples = sampler.UltranestSampler(parameters,likelihood_transform,prior_transform,step,live_point,max_calls)\n"
   ]
  }
 ],
 "metadata": {
  "kernelspec": {
   "display_name": "Python 3 (ipykernel)",
   "language": "python",
   "name": "python3"
  },
  "language_info": {
   "codemirror_mode": {
    "name": "ipython",
    "version": 3
   },
   "file_extension": ".py",
   "mimetype": "text/x-python",
   "name": "python",
   "nbconvert_exporter": "python",
   "pygments_lexer": "ipython3",
   "version": "3.11.9"
  }
 },
 "nbformat": 4,
 "nbformat_minor": 5
}
