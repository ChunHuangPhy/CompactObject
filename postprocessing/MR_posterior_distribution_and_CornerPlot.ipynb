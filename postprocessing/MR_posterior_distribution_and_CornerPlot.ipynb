{
 "cells": [
  {
   "cell_type": "markdown",
   "id": "744ffaf7",
   "metadata": {},
   "source": [
    "# Plot the posterior mass-radius countours"
   ]
  },
  {
   "cell_type": "markdown",
   "id": "b2683b98",
   "metadata": {},
   "source": [
    "Here is an example of how to obtain the posteriro mass-radius countours from the posterior distribution of the EOS parameters.\n",
    "\n",
    "After obtaining the distributions of the EOS parameters, we can map the posterior distributions of the specific EOS in mass-radius (M-R) space. This procedure helps us to understand how observational constraints affect the EOS. Each point in the EOS parameter space is uniquely correlated with a point in the EOS posterior parameter space. Then, by varying the central density, EOS points can be mapped onto the M-R plane by deriving the Tolman-Oppenheimer-Volkoff (TOV) equations.\n",
    "\n",
    "Here is a step-by-step explanation.\n",
    "\n",
    "First import all the package that will be used."
   ]
  },
  {
   "cell_type": "code",
   "execution_count": 2,
   "id": "041cf642",
   "metadata": {},
   "outputs": [],
   "source": [
    "import numpy as np \n",
    "from scipy.constants import pi\n",
    "from scipy.integrate import ode\n",
    "from scipy.interpolate import interp1d\n",
    "import random\n",
    "import matplotlib.pyplot as plt\n",
    "import seaborn as sns\n",
    "\n",
    "import TOVsolver.main as main\n",
    "\n",
    "import EOSgenerators.Strangeon_EOS as Strangeon\n",
    "from TOVsolver.unit import km, Msun, MeV, fm"
   ]
  },
  {
   "cell_type": "markdown",
   "id": "ea9e94a3",
   "metadata": {},
   "source": [
    "First, we obtain the corresponding maximum mass index for each posterior EOS parameter.\n",
    "\n",
    "Next, to obtain the posterior MR distribution, one way is to sample the central energy density. \n",
    "\n",
    "Another way is to sample the MR point directly from the MR relation. This is the same concept. \n",
    "\n",
    "The following code is an example of sampling the MR point directly using the posterior distribution of strangeon_matter_EOS."
   ]
  },
  {
   "cell_type": "code",
   "execution_count": null,
   "id": "2a4d8882",
   "metadata": {},
   "outputs": [],
   "source": [
    "Ms = []\n",
    "Rs = []\n",
    "\n",
    "Nq=18\n",
    "\n",
    "array_size = 50  # Replace array_size with the desired number of random numbers \n",
    "\n",
    "data = np.loadtxt('equal_weighted_post.txt', delimiter=\" \", skiprows=1) \n",
    "Rs = np.zeros(len(data)*array_size)\n",
    "Ms = np.zeros(len(data)*array_size)\n",
    "massradius=[]\n",
    "for i in range(0,len(data)):\n",
    "   theta = np.append(Nq, data[i][:2])  # The first two columns are epsilon/Nq, ns\n",
    "   n_min = 3 * theta[2] / Nq  \n",
    "   n_max = 0.16 * 8 * 3 / Nq    \n",
    "   nbar_values = np.linspace(n_min, n_max, 10000)  # 10000 points between n_min and n_max  \n",
    "   energy_densities, pressures = Strangeon.compute_EOS(nbar_values, theta)\n",
    "   density = np.logspace(14.3, 15.6, 50)\n",
    "   max_length =  len(density)\n",
    "\n",
    "   MR = main.OutputMR('', energy_densities*MeV/fm**3, pressures*MeV/fm**3)\n",
    "   \n",
    "   index = len(MR[:,0])\n",
    "   MFSU2R = MR[:,0]\n",
    "   RFSU2R = MR[:,1]\n",
    "   mr = interp1d(MFSU2R, RFSU2R)\n",
    "   for j in range(0,50):\n",
    "        Mpoint = max(MFSU2R)*random.random()\n",
    "#A random mass Mpoint is sampled uniformly between 0 and the maximum mass in MFSU2R.\n",
    "        Rpoint = mr(Mpoint) \n",
    "        Ms[i+j] =  Mpoint\n",
    "        Rs[i+j] = Rpoint\n",
    "#The random mass and radius values are stored in the Ms and Rs arrays.\n",
    "        massradius.append([Rs[i],Ms[i]])\n",
    "        print(i,Mpoint,Rpoint) \n",
    "        \n",
    "plt.scatter(Rs/km, Ms/Msun, color='palevioletred')   \n",
    "\n",
    "np.savetxt('withNICERtwo_para_Mass.txt',Ms)  \n",
    "np.savetxt('withNICERtwo_para_Radius.txt',Rs)\n",
    "np.savetxt('withNICERtwo_para_MR.txt',massradius) \n",
    "\n",
    "\n"
   ]
  },
  {
   "cell_type": "markdown",
   "id": "03714bef",
   "metadata": {},
   "source": [
    "Then, you can use the MR points to plot the MR contour at the 99.7% confidence level."
   ]
  },
  {
   "cell_type": "code",
   "execution_count": null,
   "id": "d34c80c5",
   "metadata": {},
   "outputs": [],
   "source": [
    "X =np.array(np.loadtxt('withNICERtwo_para_Radius.txt') )\n",
    "Y=np.array(np.loadtxt('withNICERtwo_para_Mass.txt')) \n",
    "R_l = []\n",
    "M_l = []\n",
    "MR = list(zip(X, Y))\n",
    "MR = [m for m in MR if  0.001< m[0] <16]\n",
    "R_l, M_l = zip(*MR)\n",
    "   \n",
    "\n",
    "fig, ax = plt.subplots(figsize=(8, 6))\n",
    "sns.kdeplot(x=R_l, y=M_l, shade=False,levels=[0.03], linestyles='--',linewidths=1.,\n",
    "             cmap=None, alpha=0.9, colors=['green'], ax=ax)   \n",
    "plt.scatter(R_l, M_l, color='palevioletred')  \n",
    "\n",
    "ax.set_xlim(6, 18)\n",
    "ax.set_ylim(1, 5)\n",
    "ax.set_xlabel(\"$R~(\\mathrm{km})$\")\n",
    "ax.set_ylabel(r\"$M \\ (M_{\\odot}) $\")\n",
    "ax.tick_params(direction='in', top='on', right='on', which='both')\n",
    "ax.set_title('M-R Posterior Distribution with Contour Levels')\n",
    "plt.savefig(\"MR_posterior.pdf\")\n",
    "plt.show()\n",
    "\n"
   ]
  }
 ],
 "metadata": {
  "kernelspec": {
   "display_name": "Python 3 (ipykernel)",
   "language": "python",
   "name": "python3"
  },
  "language_info": {
   "codemirror_mode": {
    "name": "ipython",
    "version": 3
   },
   "file_extension": ".py",
   "mimetype": "text/x-python",
   "name": "python",
   "nbconvert_exporter": "python",
   "pygments_lexer": "ipython3",
   "version": "3.7.4"
  }
 },
 "nbformat": 4,
 "nbformat_minor": 5
}
