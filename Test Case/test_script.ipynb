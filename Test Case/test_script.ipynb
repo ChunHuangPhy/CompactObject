{
 "cells": [
  {
   "cell_type": "code",
   "execution_count": 1,
   "metadata": {},
   "outputs": [
    {
     "name": "stdout",
     "output_type": "stream",
     "text": [
      "This is a valid equation of state\n",
      "C_s\n",
      "1150\n",
      "dens\n",
      "1150\n"
     ]
    },
    {
     "data": {
      "text/plain": [
       "array([1.62047852e+05, 1.59232654e+05, 3.62531665e+04, ...,\n",
       "       2.29510366e+00, 2.29641910e+00, 2.29694989e+00])"
      ]
     },
     "execution_count": 1,
     "metadata": {},
     "output_type": "execute_result"
    }
   ],
   "source": [
    "import main\n",
    "# Main has two functions\n",
    "#   Output.MRT() returns the mass, radius, tidal\n",
    "#   OutputC_s() returns the speed of sound\n",
    "# Using the main functions with either arrays of density and pressure or a .csv with density and pressure columns\n",
    "#   Function argument is either (filename = ) OR (density = , pressure = )\n",
    "#   Example: main.OutputMR(filename = 'file.csv') OR main.OutputMR(density = array1, pressure = array2)\n",
    "main.OutputMRT(\"Test_EOS.csv\")\n",
    "main.OutputC_s(\"Test_EOS.csv\")\n"
   ]
  },
  {
   "cell_type": "code",
   "execution_count": null,
   "metadata": {},
   "outputs": [],
   "source": []
  }
 ],
 "metadata": {
  "kernelspec": {
   "display_name": "Python 3.10.11 ('codeastro': conda)",
   "language": "python",
   "name": "python3"
  },
  "language_info": {
   "codemirror_mode": {
    "name": "ipython",
    "version": 3
   },
   "file_extension": ".py",
   "mimetype": "text/x-python",
   "name": "python",
   "nbconvert_exporter": "python",
   "pygments_lexer": "ipython3",
   "version": "3.10.11"
  },
  "orig_nbformat": 4,
  "vscode": {
   "interpreter": {
    "hash": "96cde995692749c807442bbeaa9689846410ead4afda5558a1e30343cc8dce50"
   }
  }
 },
 "nbformat": 4,
 "nbformat_minor": 2
}
