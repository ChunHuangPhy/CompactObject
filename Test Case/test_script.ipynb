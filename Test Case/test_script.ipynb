{
 "cells": [
  {
   "cell_type": "code",
   "execution_count": 4,
   "metadata": {},
   "outputs": [],
   "source": [
    "import TOVsolver.main as main\n",
    "import TOVsolver.EoS_import as EoS_import\n",
    "from matplotlib import pyplot\n",
    "import matplotlib.pyplot as plt\n",
    "import TOVsolver.constant\n",
    "from itertools import repeat\n",
    "import numpy\n",
    "# Main has two functions\n",
    "#   Output.MRT() returns the mass, radius, tidal\n",
    "#   OutputC_s() returns the speed of sound\n",
    "# Using the main functions with either arrays of density and pressure or a .csv with density and pressure columns\n",
    "#   Function argument is either (filename = ) OR (density = , pressure = )\n",
    "#   Example: main.OutputMR(filename = 'file.csv') OR main.OutputMR(density = array1, pressure = array2)\n",
    "MRT = main.OutputMRT(\"Test_EOS.csv\")\n",
    "# Plot the Mass-Radius curve\n",
    "fig, ax = plt.subplots(1,1, figsize=(9,6))\n",
    "ax.plot(MRT[0], MRT[1],lw=2)\n",
    "ax.set_ylabel(r'M [$M_{\\odot}$]', fontsize=16)\n",
    "ax.set_xlabel('R [km]', fontsize=16)\n",
    "ax.set_xlim(8., 20.)\n",
    "ax.set_ylim(0,3)\n",
    "ax.legend()\n",
    "ax.tick_params(top=1,right=1, which='both', direction='in', labelsize=14)\n",
    "ax.tick_params(top=1,right=1, which='both', direction='in', labelsize=14)\n",
    "fig.tight_layout()\n",
    "plt.show()\n",
    "\n"
   ]
  },
  {
   "cell_type": "code",
   "execution_count": null,
   "metadata": {},
   "outputs": [],
   "source": [
    "# Plot the Radius and Tidal curve\n",
    "fig, ax = plt.subplots(1,1, figsize=(9,6))\n",
    "ax.plot(MRT[0], MRT[2],lw=2)\n",
    "ax.set_ylabel(r'$\\Lambda$', fontsize=16)\n",
    "ax.set_xlabel('R [km]', fontsize=16)\n",
    "ax.set_xlim(8., 20.)\n",
    "ax.set_ylim(500,2000)\n",
    "ax.legend()\n",
    "ax.tick_params(top=1,right=1, which='both', direction='in', labelsize=14)\n",
    "ax.tick_params(top=1,right=1, which='both', direction='in', labelsize=14)\n",
    "fig.tight_layout()\n",
    "plt.show()"
   ]
  },
  {
   "cell_type": "code",
   "execution_count": null,
   "metadata": {},
   "outputs": [],
   "source": [
    "# Plot the Mass and Tidal curve\n",
    "fig, ax = plt.subplots(1,1, figsize=(9,6))\n",
    "ax.plot(MRT[1], MRT[2],lw=2)\n",
    "ax.set_ylabel(r'$\\Lambda$', fontsize=16)\n",
    "ax.set_xlabel(r'M [$M_{\\odot}$]', fontsize=16)\n",
    "ax.set_xlim(8., 20.)\n",
    "ax.set_ylim(500,2000)\n",
    "ax.legend()\n",
    "ax.tick_params(top=1,right=1, which='both', direction='in', labelsize=14)\n",
    "ax.tick_params(top=1,right=1, which='both', direction='in', labelsize=14)\n",
    "fig.tight_layout()\n",
    "plt.show()"
   ]
  },
  {
   "cell_type": "code",
   "execution_count": null,
   "metadata": {},
   "outputs": [],
   "source": [
    "C_s = main.OutputC_s(\"Test_EOS.csv\")\n",
    "\n",
    "# here we plotting out speed of sound with Test_EOS, the density is in g/cm3\n",
    "rho = EoS_import.EOS_import(\"Test_EOS.csv\")[0]\n",
    "fig, ax = plt.subplots(1,1, figsize=(9,6))\n",
    "ax.plot(rho*c**2/G, C_s,lw=2)\n",
    "ax.set_xlabel(r'$\\epsilon$', fontsize=16)\n",
    "ax.set_ylabel(r'C_s', fontsize=16)\n",
    "ax.legend()\n",
    "ax.tick_params(top=1,right=1, which='both', direction='in', labelsize=14)\n",
    "ax.tick_params(top=1,right=1, which='both', direction='in', labelsize=14)\n",
    "fig.tight_layout()\n",
    "plt.show()"
   ]
  },
  {
   "attachments": {},
   "cell_type": "markdown",
   "metadata": {},
   "source": [
    "This package can easily integrated into a Baysian inference flow, to do bayesian inference, Here, we generated several (50) EoSs from RMF model, and try to use a loop to compute out all of their MRT property. That could be a in-between step of doing bayesian inference of neutron star EoS. Remember these EoS could also be polytrope, or anything that generate from your own EoS computation code. Next step for us will be integrate our EoS computation into this package and also the Bayesian analysis."
   ]
  },
  {
   "cell_type": "code",
   "execution_count": null,
   "metadata": {},
   "outputs": [],
   "source": [
    "eps = numpy.loadtxt(\"new_eps.csv\")\n",
    "pres = numpy.loadtxt(\"new_pres.csv\")\n",
    "M = [[] for x in repeat(None, 50)]\n",
    "R = [[] for x in repeat(None, 50)]\n",
    "T = [[] for x in repeat(None, 50)]\n",
    "for i in range(50):\n",
    "    R[i] = main.OutputMRT(\"Test_EOS.csv\")[0]\n",
    "    M[i] = main.OutputMRT(\"Test_EOS.csv\")[1]\n",
    "    T[i] = main.OutputMRT(\"Test_EOS.csv\")[2]\n",
    "    \n",
    "# Plot the Mass-Radius curves\n",
    "fig, ax = plt.subplots(1,1, figsize=(9,6))\n",
    "for i in range(50):\n",
    "    ax.plot(R[i], M[i],lw=2)\n",
    "ax.set_ylabel(r'M [$M_{\\odot}$]', fontsize=16)\n",
    "ax.set_xlabel('R [km]', fontsize=16)\n",
    "ax.set_xlim(8., 20.)\n",
    "ax.set_ylim(0,3)\n",
    "ax.legend()\n",
    "ax.tick_params(top=1,right=1, which='both', direction='in', labelsize=14)\n",
    "ax.tick_params(top=1,right=1, which='both', direction='in', labelsize=14)\n",
    "fig.tight_layout()\n",
    "plt.show()"
   ]
  },
  {
   "cell_type": "code",
   "execution_count": null,
   "metadata": {},
   "outputs": [],
   "source": [
    "# Plot the Radius-Tidal curves\n",
    "fig, ax = plt.subplots(1,1, figsize=(9,6))\n",
    "for i in range(50):\n",
    "    ax.plot(R[i], T[i],lw=2)\n",
    "ax.set_ylabel(r'$\\Lambda$', fontsize=16)\n",
    "ax.set_xlabel('R [km]', fontsize=16)\n",
    "ax.set_ylim(500., 1000.)\n",
    "ax.set_xlim(8,20)\n",
    "ax.legend()\n",
    "ax.tick_params(top=1,right=1, which='both', direction='in', labelsize=14)\n",
    "ax.tick_params(top=1,right=1, which='both', direction='in', labelsize=14)\n",
    "fig.tight_layout()\n",
    "plt.show()"
   ]
  },
  {
   "cell_type": "code",
   "execution_count": null,
   "metadata": {},
   "outputs": [],
   "source": [
    "# Plot the Radius-Tidal curves\n",
    "fig, ax = plt.subplots(1,1, figsize=(9,6))\n",
    "for i in range(50):\n",
    "    ax.plot(M[i], T[i],lw=2)\n",
    "ax.set_ylabel(r'$\\Lambda$', fontsize=16)\n",
    "ax.set_xlabel('R [km]', fontsize=16)\n",
    "ax.set_ylim(500., 1000.)\n",
    "ax.set_xlim(0,3)\n",
    "ax.legend()\n",
    "ax.tick_params(top=1,right=1, which='both', direction='in', labelsize=14)\n",
    "ax.tick_params(top=1,right=1, which='both', direction='in', labelsize=14)\n",
    "fig.tight_layout()\n",
    "plt.show()"
   ]
  }
 ],
 "metadata": {
  "kernelspec": {
   "display_name": "base",
   "language": "python",
   "name": "python3"
  },
  "language_info": {
   "codemirror_mode": {
    "name": "ipython",
    "version": 3
   },
   "file_extension": ".py",
   "mimetype": "text/x-python",
   "name": "python",
   "nbconvert_exporter": "python",
   "pygments_lexer": "ipython3",
   "version": "3.9.13"
  },
  "orig_nbformat": 4,
  "vscode": {
   "interpreter": {
    "hash": "e4481115b400f107b26d360e6549f546bb0e8bc1af70e4e66085bfa77a017a39"
   }
  }
 },
 "nbformat": 4,
 "nbformat_minor": 2
}
